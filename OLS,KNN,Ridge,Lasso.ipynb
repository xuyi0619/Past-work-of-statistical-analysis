{
  "cells": [
    {
      "cell_type": "markdown",
      "metadata": {
        "id": "view-in-github",
        "colab_type": "text"
      },
      "source": [
        "<a href=\"https://colab.research.google.com/github/xuyi0619/Past-work-of-statistical-analysis/blob/main/OLS%2CKNN%2CRidge%2CLasso.ipynb\" target=\"_parent\"><img src=\"https://colab.research.google.com/assets/colab-badge.svg\" alt=\"Open In Colab\"/></a>"
      ]
    },
    {
      "cell_type": "markdown",
      "metadata": {
        "id": "PwJXdvEx5P5U"
      },
      "source": [
        "Part 1: Regression on California Test Scores"
      ]
    },
    {
      "cell_type": "code",
      "execution_count": null,
      "metadata": {
        "id": "S3xNn9waMQ7k"
      },
      "outputs": [],
      "source": [
        "from sklearn import preprocessing\n",
        "import numpy as np\n",
        "import pandas as pd\n",
        "import matplotlib as mpl\n",
        "import seaborn as sns"
      ]
    },
    {
      "cell_type": "code",
      "execution_count": null,
      "metadata": {
        "id": "mAmAv0opM8Qc"
      },
      "outputs": [],
      "source": [
        "df = pd.read_csv(\"https://vincentarelbundock.github.io/Rdatasets/csv/Ecdat/Caschool.csv\")"
      ]
    },
    {
      "cell_type": "code",
      "execution_count": null,
      "metadata": {
        "colab": {
          "base_uri": "https://localhost:8080/",
          "height": 783
        },
        "id": "1kMazrtgOj7W",
        "outputId": "64666c00-0116-40f9-f5dc-202b3d9559d2"
      },
      "outputs": [
        {
          "output_type": "execute_result",
          "data": {
            "text/plain": [
              "     Unnamed: 0  distcod       county                         district grspan  \\\n",
              "0             1    75119      Alameda               Sunol Glen Unified  KK-08   \n",
              "1             2    61499        Butte             Manzanita Elementary  KK-08   \n",
              "2             3    61549        Butte      Thermalito Union Elementary  KK-08   \n",
              "3             4    61457        Butte  Golden Feather Union Elementary  KK-08   \n",
              "4             5    61523        Butte         Palermo Union Elementary  KK-08   \n",
              "..          ...      ...          ...                              ...    ...   \n",
              "415         416    68957    San Mateo           Las Lomitas Elementary  KK-08   \n",
              "416         417    69518  Santa Clara             Los Altos Elementary  KK-08   \n",
              "417         418    72611      Ventura           Somis Union Elementary  KK-08   \n",
              "418         419    72744         Yuba                Plumas Elementary  KK-08   \n",
              "419         420    72751         Yuba             Wheatland Elementary  KK-08   \n",
              "\n",
              "     enrltot    teachers    calwpct    mealpct  computer     testscr  \\\n",
              "0        195   10.900000   0.510200   2.040800        67  690.799988   \n",
              "1        240   11.150000  15.416700  47.916698       101  661.200012   \n",
              "2       1550   82.900002  55.032299  76.322601       169  643.599976   \n",
              "3        243   14.000000  36.475399  77.049202        85  647.700012   \n",
              "4       1335   71.500000  33.108601  78.427002       171  640.849976   \n",
              "..       ...         ...        ...        ...       ...         ...   \n",
              "415      984   59.730000   0.101600   3.556900       195  704.300049   \n",
              "416     3724  208.479996   1.074100   1.503800       721  706.750000   \n",
              "417      441   20.150000   3.563500  37.193802        45  645.000000   \n",
              "418      101    5.000000  11.881200  59.405899        14  672.200012   \n",
              "419     1778   93.400002   6.923500  47.571201       313  655.750000   \n",
              "\n",
              "      compstu      expnstu        str     avginc      elpct  \n",
              "0    0.343590  6384.911133  17.889910  22.690001   0.000000  \n",
              "1    0.420833  5099.380859  21.524664   9.824000   4.583333  \n",
              "2    0.109032  5501.954590  18.697226   8.978000  30.000002  \n",
              "3    0.349794  7101.831055  17.357143   8.978000   0.000000  \n",
              "4    0.128090  5235.987793  18.671329   9.080333  13.857677  \n",
              "..        ...          ...        ...        ...        ...  \n",
              "415  0.198171  7290.338867  16.474134  28.716999   5.995935  \n",
              "416  0.193609  5741.462891  17.862625  41.734108   4.726101  \n",
              "417  0.102041  4402.831543  21.885857  23.733000  24.263039  \n",
              "418  0.138614  4776.336426  20.200001   9.952000   2.970297  \n",
              "419  0.176041  5993.392578  19.036402  12.502000   5.005624  \n",
              "\n",
              "[420 rows x 16 columns]"
            ],
            "text/html": [
              "\n",
              "  <div id=\"df-671133f3-5f07-41fb-a2ff-cae3dd178f52\">\n",
              "    <div class=\"colab-df-container\">\n",
              "      <div>\n",
              "<style scoped>\n",
              "    .dataframe tbody tr th:only-of-type {\n",
              "        vertical-align: middle;\n",
              "    }\n",
              "\n",
              "    .dataframe tbody tr th {\n",
              "        vertical-align: top;\n",
              "    }\n",
              "\n",
              "    .dataframe thead th {\n",
              "        text-align: right;\n",
              "    }\n",
              "</style>\n",
              "<table border=\"1\" class=\"dataframe\">\n",
              "  <thead>\n",
              "    <tr style=\"text-align: right;\">\n",
              "      <th></th>\n",
              "      <th>Unnamed: 0</th>\n",
              "      <th>distcod</th>\n",
              "      <th>county</th>\n",
              "      <th>district</th>\n",
              "      <th>grspan</th>\n",
              "      <th>enrltot</th>\n",
              "      <th>teachers</th>\n",
              "      <th>calwpct</th>\n",
              "      <th>mealpct</th>\n",
              "      <th>computer</th>\n",
              "      <th>testscr</th>\n",
              "      <th>compstu</th>\n",
              "      <th>expnstu</th>\n",
              "      <th>str</th>\n",
              "      <th>avginc</th>\n",
              "      <th>elpct</th>\n",
              "    </tr>\n",
              "  </thead>\n",
              "  <tbody>\n",
              "    <tr>\n",
              "      <th>0</th>\n",
              "      <td>1</td>\n",
              "      <td>75119</td>\n",
              "      <td>Alameda</td>\n",
              "      <td>Sunol Glen Unified</td>\n",
              "      <td>KK-08</td>\n",
              "      <td>195</td>\n",
              "      <td>10.900000</td>\n",
              "      <td>0.510200</td>\n",
              "      <td>2.040800</td>\n",
              "      <td>67</td>\n",
              "      <td>690.799988</td>\n",
              "      <td>0.343590</td>\n",
              "      <td>6384.911133</td>\n",
              "      <td>17.889910</td>\n",
              "      <td>22.690001</td>\n",
              "      <td>0.000000</td>\n",
              "    </tr>\n",
              "    <tr>\n",
              "      <th>1</th>\n",
              "      <td>2</td>\n",
              "      <td>61499</td>\n",
              "      <td>Butte</td>\n",
              "      <td>Manzanita Elementary</td>\n",
              "      <td>KK-08</td>\n",
              "      <td>240</td>\n",
              "      <td>11.150000</td>\n",
              "      <td>15.416700</td>\n",
              "      <td>47.916698</td>\n",
              "      <td>101</td>\n",
              "      <td>661.200012</td>\n",
              "      <td>0.420833</td>\n",
              "      <td>5099.380859</td>\n",
              "      <td>21.524664</td>\n",
              "      <td>9.824000</td>\n",
              "      <td>4.583333</td>\n",
              "    </tr>\n",
              "    <tr>\n",
              "      <th>2</th>\n",
              "      <td>3</td>\n",
              "      <td>61549</td>\n",
              "      <td>Butte</td>\n",
              "      <td>Thermalito Union Elementary</td>\n",
              "      <td>KK-08</td>\n",
              "      <td>1550</td>\n",
              "      <td>82.900002</td>\n",
              "      <td>55.032299</td>\n",
              "      <td>76.322601</td>\n",
              "      <td>169</td>\n",
              "      <td>643.599976</td>\n",
              "      <td>0.109032</td>\n",
              "      <td>5501.954590</td>\n",
              "      <td>18.697226</td>\n",
              "      <td>8.978000</td>\n",
              "      <td>30.000002</td>\n",
              "    </tr>\n",
              "    <tr>\n",
              "      <th>3</th>\n",
              "      <td>4</td>\n",
              "      <td>61457</td>\n",
              "      <td>Butte</td>\n",
              "      <td>Golden Feather Union Elementary</td>\n",
              "      <td>KK-08</td>\n",
              "      <td>243</td>\n",
              "      <td>14.000000</td>\n",
              "      <td>36.475399</td>\n",
              "      <td>77.049202</td>\n",
              "      <td>85</td>\n",
              "      <td>647.700012</td>\n",
              "      <td>0.349794</td>\n",
              "      <td>7101.831055</td>\n",
              "      <td>17.357143</td>\n",
              "      <td>8.978000</td>\n",
              "      <td>0.000000</td>\n",
              "    </tr>\n",
              "    <tr>\n",
              "      <th>4</th>\n",
              "      <td>5</td>\n",
              "      <td>61523</td>\n",
              "      <td>Butte</td>\n",
              "      <td>Palermo Union Elementary</td>\n",
              "      <td>KK-08</td>\n",
              "      <td>1335</td>\n",
              "      <td>71.500000</td>\n",
              "      <td>33.108601</td>\n",
              "      <td>78.427002</td>\n",
              "      <td>171</td>\n",
              "      <td>640.849976</td>\n",
              "      <td>0.128090</td>\n",
              "      <td>5235.987793</td>\n",
              "      <td>18.671329</td>\n",
              "      <td>9.080333</td>\n",
              "      <td>13.857677</td>\n",
              "    </tr>\n",
              "    <tr>\n",
              "      <th>...</th>\n",
              "      <td>...</td>\n",
              "      <td>...</td>\n",
              "      <td>...</td>\n",
              "      <td>...</td>\n",
              "      <td>...</td>\n",
              "      <td>...</td>\n",
              "      <td>...</td>\n",
              "      <td>...</td>\n",
              "      <td>...</td>\n",
              "      <td>...</td>\n",
              "      <td>...</td>\n",
              "      <td>...</td>\n",
              "      <td>...</td>\n",
              "      <td>...</td>\n",
              "      <td>...</td>\n",
              "      <td>...</td>\n",
              "    </tr>\n",
              "    <tr>\n",
              "      <th>415</th>\n",
              "      <td>416</td>\n",
              "      <td>68957</td>\n",
              "      <td>San Mateo</td>\n",
              "      <td>Las Lomitas Elementary</td>\n",
              "      <td>KK-08</td>\n",
              "      <td>984</td>\n",
              "      <td>59.730000</td>\n",
              "      <td>0.101600</td>\n",
              "      <td>3.556900</td>\n",
              "      <td>195</td>\n",
              "      <td>704.300049</td>\n",
              "      <td>0.198171</td>\n",
              "      <td>7290.338867</td>\n",
              "      <td>16.474134</td>\n",
              "      <td>28.716999</td>\n",
              "      <td>5.995935</td>\n",
              "    </tr>\n",
              "    <tr>\n",
              "      <th>416</th>\n",
              "      <td>417</td>\n",
              "      <td>69518</td>\n",
              "      <td>Santa Clara</td>\n",
              "      <td>Los Altos Elementary</td>\n",
              "      <td>KK-08</td>\n",
              "      <td>3724</td>\n",
              "      <td>208.479996</td>\n",
              "      <td>1.074100</td>\n",
              "      <td>1.503800</td>\n",
              "      <td>721</td>\n",
              "      <td>706.750000</td>\n",
              "      <td>0.193609</td>\n",
              "      <td>5741.462891</td>\n",
              "      <td>17.862625</td>\n",
              "      <td>41.734108</td>\n",
              "      <td>4.726101</td>\n",
              "    </tr>\n",
              "    <tr>\n",
              "      <th>417</th>\n",
              "      <td>418</td>\n",
              "      <td>72611</td>\n",
              "      <td>Ventura</td>\n",
              "      <td>Somis Union Elementary</td>\n",
              "      <td>KK-08</td>\n",
              "      <td>441</td>\n",
              "      <td>20.150000</td>\n",
              "      <td>3.563500</td>\n",
              "      <td>37.193802</td>\n",
              "      <td>45</td>\n",
              "      <td>645.000000</td>\n",
              "      <td>0.102041</td>\n",
              "      <td>4402.831543</td>\n",
              "      <td>21.885857</td>\n",
              "      <td>23.733000</td>\n",
              "      <td>24.263039</td>\n",
              "    </tr>\n",
              "    <tr>\n",
              "      <th>418</th>\n",
              "      <td>419</td>\n",
              "      <td>72744</td>\n",
              "      <td>Yuba</td>\n",
              "      <td>Plumas Elementary</td>\n",
              "      <td>KK-08</td>\n",
              "      <td>101</td>\n",
              "      <td>5.000000</td>\n",
              "      <td>11.881200</td>\n",
              "      <td>59.405899</td>\n",
              "      <td>14</td>\n",
              "      <td>672.200012</td>\n",
              "      <td>0.138614</td>\n",
              "      <td>4776.336426</td>\n",
              "      <td>20.200001</td>\n",
              "      <td>9.952000</td>\n",
              "      <td>2.970297</td>\n",
              "    </tr>\n",
              "    <tr>\n",
              "      <th>419</th>\n",
              "      <td>420</td>\n",
              "      <td>72751</td>\n",
              "      <td>Yuba</td>\n",
              "      <td>Wheatland Elementary</td>\n",
              "      <td>KK-08</td>\n",
              "      <td>1778</td>\n",
              "      <td>93.400002</td>\n",
              "      <td>6.923500</td>\n",
              "      <td>47.571201</td>\n",
              "      <td>313</td>\n",
              "      <td>655.750000</td>\n",
              "      <td>0.176041</td>\n",
              "      <td>5993.392578</td>\n",
              "      <td>19.036402</td>\n",
              "      <td>12.502000</td>\n",
              "      <td>5.005624</td>\n",
              "    </tr>\n",
              "  </tbody>\n",
              "</table>\n",
              "<p>420 rows × 16 columns</p>\n",
              "</div>\n",
              "      <button class=\"colab-df-convert\" onclick=\"convertToInteractive('df-671133f3-5f07-41fb-a2ff-cae3dd178f52')\"\n",
              "              title=\"Convert this dataframe to an interactive table.\"\n",
              "              style=\"display:none;\">\n",
              "        \n",
              "  <svg xmlns=\"http://www.w3.org/2000/svg\" height=\"24px\"viewBox=\"0 0 24 24\"\n",
              "       width=\"24px\">\n",
              "    <path d=\"M0 0h24v24H0V0z\" fill=\"none\"/>\n",
              "    <path d=\"M18.56 5.44l.94 2.06.94-2.06 2.06-.94-2.06-.94-.94-2.06-.94 2.06-2.06.94zm-11 1L8.5 8.5l.94-2.06 2.06-.94-2.06-.94L8.5 2.5l-.94 2.06-2.06.94zm10 10l.94 2.06.94-2.06 2.06-.94-2.06-.94-.94-2.06-.94 2.06-2.06.94z\"/><path d=\"M17.41 7.96l-1.37-1.37c-.4-.4-.92-.59-1.43-.59-.52 0-1.04.2-1.43.59L10.3 9.45l-7.72 7.72c-.78.78-.78 2.05 0 2.83L4 21.41c.39.39.9.59 1.41.59.51 0 1.02-.2 1.41-.59l7.78-7.78 2.81-2.81c.8-.78.8-2.07 0-2.86zM5.41 20L4 18.59l7.72-7.72 1.47 1.35L5.41 20z\"/>\n",
              "  </svg>\n",
              "      </button>\n",
              "      \n",
              "  <style>\n",
              "    .colab-df-container {\n",
              "      display:flex;\n",
              "      flex-wrap:wrap;\n",
              "      gap: 12px;\n",
              "    }\n",
              "\n",
              "    .colab-df-convert {\n",
              "      background-color: #E8F0FE;\n",
              "      border: none;\n",
              "      border-radius: 50%;\n",
              "      cursor: pointer;\n",
              "      display: none;\n",
              "      fill: #1967D2;\n",
              "      height: 32px;\n",
              "      padding: 0 0 0 0;\n",
              "      width: 32px;\n",
              "    }\n",
              "\n",
              "    .colab-df-convert:hover {\n",
              "      background-color: #E2EBFA;\n",
              "      box-shadow: 0px 1px 2px rgba(60, 64, 67, 0.3), 0px 1px 3px 1px rgba(60, 64, 67, 0.15);\n",
              "      fill: #174EA6;\n",
              "    }\n",
              "\n",
              "    [theme=dark] .colab-df-convert {\n",
              "      background-color: #3B4455;\n",
              "      fill: #D2E3FC;\n",
              "    }\n",
              "\n",
              "    [theme=dark] .colab-df-convert:hover {\n",
              "      background-color: #434B5C;\n",
              "      box-shadow: 0px 1px 3px 1px rgba(0, 0, 0, 0.15);\n",
              "      filter: drop-shadow(0px 1px 2px rgba(0, 0, 0, 0.3));\n",
              "      fill: #FFFFFF;\n",
              "    }\n",
              "  </style>\n",
              "\n",
              "      <script>\n",
              "        const buttonEl =\n",
              "          document.querySelector('#df-671133f3-5f07-41fb-a2ff-cae3dd178f52 button.colab-df-convert');\n",
              "        buttonEl.style.display =\n",
              "          google.colab.kernel.accessAllowed ? 'block' : 'none';\n",
              "\n",
              "        async function convertToInteractive(key) {\n",
              "          const element = document.querySelector('#df-671133f3-5f07-41fb-a2ff-cae3dd178f52');\n",
              "          const dataTable =\n",
              "            await google.colab.kernel.invokeFunction('convertToInteractive',\n",
              "                                                     [key], {});\n",
              "          if (!dataTable) return;\n",
              "\n",
              "          const docLinkHtml = 'Like what you see? Visit the ' +\n",
              "            '<a target=\"_blank\" href=https://colab.research.google.com/notebooks/data_table.ipynb>data table notebook</a>'\n",
              "            + ' to learn more about interactive tables.';\n",
              "          element.innerHTML = '';\n",
              "          dataTable['output_type'] = 'display_data';\n",
              "          await google.colab.output.renderOutput(dataTable, element);\n",
              "          const docLink = document.createElement('div');\n",
              "          docLink.innerHTML = docLinkHtml;\n",
              "          element.appendChild(docLink);\n",
              "        }\n",
              "      </script>\n",
              "    </div>\n",
              "  </div>\n",
              "  "
            ]
          },
          "metadata": {},
          "execution_count": 3
        }
      ],
      "source": [
        "df.drop([\"readscr\", \"mathscr\"], axis=1)"
      ]
    },
    {
      "cell_type": "markdown",
      "metadata": {
        "id": "x_MPRy8HP6e2"
      },
      "source": [
        "1.1 Visualize the univariate distribution of the target feature and each of the three continuous explanatory variables that you think are likely to have a relationship with the target feature.   "
      ]
    },
    {
      "cell_type": "code",
      "execution_count": null,
      "metadata": {
        "id": "V3F7ZagwY6vx"
      },
      "outputs": [],
      "source": [
        "from matplotlib import pyplot as plt"
      ]
    },
    {
      "cell_type": "code",
      "execution_count": null,
      "metadata": {
        "colab": {
          "base_uri": "https://localhost:8080/",
          "height": 297
        },
        "id": "0eg-mTWkaEuY",
        "outputId": "7a446589-a595-4529-adf4-db240b4d1f2c"
      },
      "outputs": [
        {
          "output_type": "execute_result",
          "data": {
            "text/plain": [
              "Text(0, 0.5, 'count')"
            ]
          },
          "metadata": {},
          "execution_count": 5
        },
        {
          "output_type": "display_data",
          "data": {
            "text/plain": [
              "<Figure size 432x288 with 1 Axes>"
            ],
            "image/png": "[encoded data removed]"
          },
          "metadata": {
            "needs_background": "light"
          }
        }
      ],
      "source": [
        "df['computer'].hist()\n",
        "plt.xlabel('computer')\n",
        "plt.ylabel('count')"
      ]
    },
    {
      "cell_type": "code",
      "execution_count": null,
      "metadata": {
        "colab": {
          "base_uri": "https://localhost:8080/",
          "height": 297
        },
        "id": "IxxcszKsZ5bl",
        "outputId": "47f8c3e0-9475-48a9-9530-9857e6966d5b"
      },
      "outputs": [
        {
          "data": {
            "text/plain": [
              "Text(0, 0.5, 'count')"
            ]
          },
          "execution_count": 7,
          "metadata": {},
          "output_type": "execute_result"
        },
        {
          "data": {
            "image/png": "[encoded data removed]",
            "text/plain": [
              "<Figure size 432x288 with 1 Axes>"
            ]
          },
          "metadata": {},
          "output_type": "display_data"
        }
      ],
      "source": [
        "df['expnstu'].hist()\n",
        "plt.xlabel('expnstu')\n",
        "plt.ylabel('count')"
      ]
    },
    {
      "cell_type": "code",
      "execution_count": null,
      "metadata": {
        "colab": {
          "base_uri": "https://localhost:8080/",
          "height": 297
        },
        "id": "iejGEignP5pO",
        "outputId": "f6d9cc06-2505-4e9d-ab88-498be1a8526d"
      },
      "outputs": [
        {
          "data": {
            "text/plain": [
              "Text(0, 0.5, 'count')"
            ]
          },
          "execution_count": 8,
          "metadata": {},
          "output_type": "execute_result"
        },
        {
          "data": {
            "image/png": "[encoded data removed]",
            "text/plain": [
              "<Figure size 432x288 with 1 Axes>"
            ]
          },
          "metadata": {},
          "output_type": "display_data"
        }
      ],
      "source": [
        "df['teachers'].hist()\n",
        "plt.xlabel('teachers')\n",
        "plt.ylabel('count')"
      ]
    },
    {
      "cell_type": "code",
      "execution_count": null,
      "metadata": {
        "colab": {
          "base_uri": "https://localhost:8080/",
          "height": 297
        },
        "id": "BEPdYhlrZAvB",
        "outputId": "b2e68d54-1211-4819-e910-60c7155f6f9b"
      },
      "outputs": [
        {
          "data": {
            "text/plain": [
              "Text(0, 0.5, 'count')"
            ]
          },
          "execution_count": 9,
          "metadata": {},
          "output_type": "execute_result"
        },
        {
          "data": {
            "image/png": "[encoded data removed]",
            "text/plain": [
              "<Figure size 432x288 with 1 Axes>"
            ]
          },
          "metadata": {},
          "output_type": "display_data"
        }
      ],
      "source": [
        "df['testscr'].hist()\n",
        "plt.xlabel('testscr')\n",
        "plt.ylabel('count')"
      ]
    },
    {
      "cell_type": "markdown",
      "metadata": {
        "id": "PhWYQ1nnab5S"
      },
      "source": [
        "1.2 Visualize the dependency of the target on each feature from 1.1."
      ]
    },
    {
      "cell_type": "code",
      "execution_count": null,
      "metadata": {
        "colab": {
          "base_uri": "https://localhost:8080/",
          "height": 295
        },
        "id": "kiBwhGnRac01",
        "outputId": "b130e1ee-99c7-4f2e-e587-f4b5bb4beffd"
      },
      "outputs": [
        {
          "data": {
            "image/png": "[encoded data removed]",
            "text/plain": [
              "<Figure size 432x288 with 1 Axes>"
            ]
          },
          "metadata": {},
          "output_type": "display_data"
        }
      ],
      "source": [
        "plt.scatter('testscr','teachers', data = df, color='green',marker='o',linestyle='solid')\n",
        "\n",
        "# add a title\n",
        "\n",
        "plt.title(\"testscr & teachers\")\n",
        "\n",
        "# add a label to the x and y-axis\n",
        "plt.ylabel(\"teachers\")\n",
        "plt.xlabel(\"testscr\")\n",
        "\n",
        "plt.show() # code to print out final chart"
      ]
    },
    {
      "cell_type": "code",
      "execution_count": null,
      "metadata": {
        "colab": {
          "base_uri": "https://localhost:8080/",
          "height": 295
        },
        "id": "BwdazmQsevVA",
        "outputId": "5a665043-42bf-4962-b29c-a0155c7ccea4"
      },
      "outputs": [
        {
          "data": {
            "image/png": "[encoded data removed]",
            "text/plain": [
              "<Figure size 432x288 with 1 Axes>"
            ]
          },
          "metadata": {},
          "output_type": "display_data"
        }
      ],
      "source": [
        "plt.scatter('testscr','expnstu', data = df, color='green',marker='o',linestyle='solid')\n",
        "\n",
        "# add a title\n",
        "\n",
        "plt.title(\"testscr & expnstu\")\n",
        "\n",
        "# add a label to the x and y-axis\n",
        "plt.ylabel(\"expnstu\")\n",
        "plt.xlabel(\"testscr\")\n",
        "\n",
        "plt.show() # code to print out final chart"
      ]
    },
    {
      "cell_type": "code",
      "execution_count": null,
      "metadata": {
        "colab": {
          "base_uri": "https://localhost:8080/",
          "height": 295
        },
        "id": "eBPhW8BLeu9L",
        "outputId": "dcfd98ab-4bb2-418e-aee6-a0efa8f02cc1"
      },
      "outputs": [
        {
          "data": {
            "image/png": "[encoded data removed]",
            "text/plain": [
              "<Figure size 432x288 with 1 Axes>"
            ]
          },
          "metadata": {},
          "output_type": "display_data"
        }
      ],
      "source": [
        "plt.scatter('testscr','avginc', data = df, color='green',marker='o',linestyle='solid')\n",
        "\n",
        "# add a title\n",
        "\n",
        "plt.title(\"testscr & avginc\")\n",
        "\n",
        "# add a label to the x and y-axis\n",
        "plt.ylabel(\"avginc\")\n",
        "plt.xlabel(\"testscr\")\n",
        "\n",
        "plt.show() # code to print out final chart"
      ]
    },
    {
      "cell_type": "markdown",
      "metadata": {
        "id": "XqY4n8Ptfivc"
      },
      "source": [
        "1.3 Split data in training and test set. Build models that evaluate the relationship between all available X variables in the California test dataset and the target variable. Evaluate KNN for regression, Linear Regression (OLS), Ridge, and Lasso using cross-validation with the default parameters. Does scaling the data with the StandardScaler help?"
      ]
    },
    {
      "cell_type": "code",
      "execution_count": null,
      "metadata": {
        "id": "3RP0XNiiyijS",
        "colab": {
          "base_uri": "https://localhost:8080/",
          "height": 206
        },
        "outputId": "35cbcc7b-8d25-459c-fe7c-398ad0c37bea"
      },
      "outputs": [
        {
          "output_type": "execute_result",
          "data": {
            "text/plain": [
              "   enrltot   teachers    calwpct    mealpct  computer     testscr   compstu  \\\n",
              "0      195  10.900000   0.510200   2.040800        67  690.799988  0.343590   \n",
              "1      240  11.150000  15.416700  47.916698       101  661.200012  0.420833   \n",
              "2     1550  82.900002  55.032299  76.322601       169  643.599976  0.109032   \n",
              "3      243  14.000000  36.475399  77.049202        85  647.700012  0.349794   \n",
              "4     1335  71.500000  33.108601  78.427002       171  640.849976  0.128090   \n",
              "\n",
              "       expnstu        str     avginc      elpct  \n",
              "0  6384.911133  17.889910  22.690001   0.000000  \n",
              "1  5099.380859  21.524664   9.824000   4.583333  \n",
              "2  5501.954590  18.697226   8.978000  30.000002  \n",
              "3  7101.831055  17.357143   8.978000   0.000000  \n",
              "4  5235.987793  18.671329   9.080333  13.857677  "
            ],
            "text/html": [
              "\n",
              "  <div id=\"df-8d74769a-e696-470a-a54a-1c87c9c657aa\">\n",
              "    <div class=\"colab-df-container\">\n",
              "      <div>\n",
              "<style scoped>\n",
              "    .dataframe tbody tr th:only-of-type {\n",
              "        vertical-align: middle;\n",
              "    }\n",
              "\n",
              "    .dataframe tbody tr th {\n",
              "        vertical-align: top;\n",
              "    }\n",
              "\n",
              "    .dataframe thead th {\n",
              "        text-align: right;\n",
              "    }\n",
              "</style>\n",
              "<table border=\"1\" class=\"dataframe\">\n",
              "  <thead>\n",
              "    <tr style=\"text-align: right;\">\n",
              "      <th></th>\n",
              "      <th>enrltot</th>\n",
              "      <th>teachers</th>\n",
              "      <th>calwpct</th>\n",
              "      <th>mealpct</th>\n",
              "      <th>computer</th>\n",
              "      <th>testscr</th>\n",
              "      <th>compstu</th>\n",
              "      <th>expnstu</th>\n",
              "      <th>str</th>\n",
              "      <th>avginc</th>\n",
              "      <th>elpct</th>\n",
              "    </tr>\n",
              "  </thead>\n",
              "  <tbody>\n",
              "    <tr>\n",
              "      <th>0</th>\n",
              "      <td>195</td>\n",
              "      <td>10.900000</td>\n",
              "      <td>0.510200</td>\n",
              "      <td>2.040800</td>\n",
              "      <td>67</td>\n",
              "      <td>690.799988</td>\n",
              "      <td>0.343590</td>\n",
              "      <td>6384.911133</td>\n",
              "      <td>17.889910</td>\n",
              "      <td>22.690001</td>\n",
              "      <td>0.000000</td>\n",
              "    </tr>\n",
              "    <tr>\n",
              "      <th>1</th>\n",
              "      <td>240</td>\n",
              "      <td>11.150000</td>\n",
              "      <td>15.416700</td>\n",
              "      <td>47.916698</td>\n",
              "      <td>101</td>\n",
              "      <td>661.200012</td>\n",
              "      <td>0.420833</td>\n",
              "      <td>5099.380859</td>\n",
              "      <td>21.524664</td>\n",
              "      <td>9.824000</td>\n",
              "      <td>4.583333</td>\n",
              "    </tr>\n",
              "    <tr>\n",
              "      <th>2</th>\n",
              "      <td>1550</td>\n",
              "      <td>82.900002</td>\n",
              "      <td>55.032299</td>\n",
              "      <td>76.322601</td>\n",
              "      <td>169</td>\n",
              "      <td>643.599976</td>\n",
              "      <td>0.109032</td>\n",
              "      <td>5501.954590</td>\n",
              "      <td>18.697226</td>\n",
              "      <td>8.978000</td>\n",
              "      <td>30.000002</td>\n",
              "    </tr>\n",
              "    <tr>\n",
              "      <th>3</th>\n",
              "      <td>243</td>\n",
              "      <td>14.000000</td>\n",
              "      <td>36.475399</td>\n",
              "      <td>77.049202</td>\n",
              "      <td>85</td>\n",
              "      <td>647.700012</td>\n",
              "      <td>0.349794</td>\n",
              "      <td>7101.831055</td>\n",
              "      <td>17.357143</td>\n",
              "      <td>8.978000</td>\n",
              "      <td>0.000000</td>\n",
              "    </tr>\n",
              "    <tr>\n",
              "      <th>4</th>\n",
              "      <td>1335</td>\n",
              "      <td>71.500000</td>\n",
              "      <td>33.108601</td>\n",
              "      <td>78.427002</td>\n",
              "      <td>171</td>\n",
              "      <td>640.849976</td>\n",
              "      <td>0.128090</td>\n",
              "      <td>5235.987793</td>\n",
              "      <td>18.671329</td>\n",
              "      <td>9.080333</td>\n",
              "      <td>13.857677</td>\n",
              "    </tr>\n",
              "  </tbody>\n",
              "</table>\n",
              "</div>\n",
              "      <button class=\"colab-df-convert\" onclick=\"convertToInteractive('df-8d74769a-e696-470a-a54a-1c87c9c657aa')\"\n",
              "              title=\"Convert this dataframe to an interactive table.\"\n",
              "              style=\"display:none;\">\n",
              "        \n",
              "  <svg xmlns=\"http://www.w3.org/2000/svg\" height=\"24px\"viewBox=\"0 0 24 24\"\n",
              "       width=\"24px\">\n",
              "    <path d=\"M0 0h24v24H0V0z\" fill=\"none\"/>\n",
              "    <path d=\"M18.56 5.44l.94 2.06.94-2.06 2.06-.94-2.06-.94-.94-2.06-.94 2.06-2.06.94zm-11 1L8.5 8.5l.94-2.06 2.06-.94-2.06-.94L8.5 2.5l-.94 2.06-2.06.94zm10 10l.94 2.06.94-2.06 2.06-.94-2.06-.94-.94-2.06-.94 2.06-2.06.94z\"/><path d=\"M17.41 7.96l-1.37-1.37c-.4-.4-.92-.59-1.43-.59-.52 0-1.04.2-1.43.59L10.3 9.45l-7.72 7.72c-.78.78-.78 2.05 0 2.83L4 21.41c.39.39.9.59 1.41.59.51 0 1.02-.2 1.41-.59l7.78-7.78 2.81-2.81c.8-.78.8-2.07 0-2.86zM5.41 20L4 18.59l7.72-7.72 1.47 1.35L5.41 20z\"/>\n",
              "  </svg>\n",
              "      </button>\n",
              "      \n",
              "  <style>\n",
              "    .colab-df-container {\n",
              "      display:flex;\n",
              "      flex-wrap:wrap;\n",
              "      gap: 12px;\n",
              "    }\n",
              "\n",
              "    .colab-df-convert {\n",
              "      background-color: #E8F0FE;\n",
              "      border: none;\n",
              "      border-radius: 50%;\n",
              "      cursor: pointer;\n",
              "      display: none;\n",
              "      fill: #1967D2;\n",
              "      height: 32px;\n",
              "      padding: 0 0 0 0;\n",
              "      width: 32px;\n",
              "    }\n",
              "\n",
              "    .colab-df-convert:hover {\n",
              "      background-color: #E2EBFA;\n",
              "      box-shadow: 0px 1px 2px rgba(60, 64, 67, 0.3), 0px 1px 3px 1px rgba(60, 64, 67, 0.15);\n",
              "      fill: #174EA6;\n",
              "    }\n",
              "\n",
              "    [theme=dark] .colab-df-convert {\n",
              "      background-color: #3B4455;\n",
              "      fill: #D2E3FC;\n",
              "    }\n",
              "\n",
              "    [theme=dark] .colab-df-convert:hover {\n",
              "      background-color: #434B5C;\n",
              "      box-shadow: 0px 1px 3px 1px rgba(0, 0, 0, 0.15);\n",
              "      filter: drop-shadow(0px 1px 2px rgba(0, 0, 0, 0.3));\n",
              "      fill: #FFFFFF;\n",
              "    }\n",
              "  </style>\n",
              "\n",
              "      <script>\n",
              "        const buttonEl =\n",
              "          document.querySelector('#df-8d74769a-e696-470a-a54a-1c87c9c657aa button.colab-df-convert');\n",
              "        buttonEl.style.display =\n",
              "          google.colab.kernel.accessAllowed ? 'block' : 'none';\n",
              "\n",
              "        async function convertToInteractive(key) {\n",
              "          const element = document.querySelector('#df-8d74769a-e696-470a-a54a-1c87c9c657aa');\n",
              "          const dataTable =\n",
              "            await google.colab.kernel.invokeFunction('convertToInteractive',\n",
              "                                                     [key], {});\n",
              "          if (!dataTable) return;\n",
              "\n",
              "          const docLinkHtml = 'Like what you see? Visit the ' +\n",
              "            '<a target=\"_blank\" href=https://colab.research.google.com/notebooks/data_table.ipynb>data table notebook</a>'\n",
              "            + ' to learn more about interactive tables.';\n",
              "          element.innerHTML = '';\n",
              "          dataTable['output_type'] = 'display_data';\n",
              "          await google.colab.output.renderOutput(dataTable, element);\n",
              "          const docLink = document.createElement('div');\n",
              "          docLink.innerHTML = docLinkHtml;\n",
              "          element.appendChild(docLink);\n",
              "        }\n",
              "      </script>\n",
              "    </div>\n",
              "  </div>\n",
              "  "
            ]
          },
          "metadata": {},
          "execution_count": 11
        }
      ],
      "source": [
        "# Delete extra variable that is not continuous\n",
        "corrected_data = df.drop(df.columns[[16, 17]], axis=1) # remove the reading and math scores from the dataset\n",
        "data = corrected_data.iloc[:, 5:] # delete first six columns\n",
        "\n",
        "data.head()\n"
      ]
    },
    {
      "cell_type": "markdown",
      "metadata": {
        "id": "n5bDEN097JMu"
      },
      "source": [
        "Ridge"
      ]
    },
    {
      "cell_type": "code",
      "execution_count": null,
      "metadata": {
        "id": "gYs5yE2qZoU8"
      },
      "outputs": [],
      "source": [
        "#Split data\n",
        "from sklearn.model_selection import train_test_split\n",
        "from sklearn.linear_model import Ridge\n",
        "y = data['testscr'] # median value of homes\n",
        "X = data.loc[:, data.columns != 'testscr']\n",
        "X_train, X_test, y_train, y_test = train_test_split(X, y, random_state=4)"
      ]
    },
    {
      "cell_type": "code",
      "execution_count": null,
      "metadata": {
        "colab": {
          "base_uri": "https://localhost:8080/"
        },
        "id": "PX6XvN2LZSG4",
        "outputId": "123733e6-ef82-49ec-90a5-6d12c8d8eb16"
      },
      "outputs": [
        {
          "output_type": "stream",
          "name": "stdout",
          "text": [
            "Training set score: 0.81\n",
            "Test set score: 0.78\n"
          ]
        }
      ],
      "source": [
        "# Ridge without StandardScaler\n",
        "ridge = Ridge().fit(X_train, y_train)\n",
        "print(\"Training set score: {:.2f}\".format(ridge.score(X_train, y_train)))\n",
        "print(\"Test set score: {:.2f}\".format(ridge.score(X_test, y_test)))"
      ]
    },
    {
      "cell_type": "code",
      "execution_count": null,
      "metadata": {
        "colab": {
          "base_uri": "https://localhost:8080/"
        },
        "id": "B5vkIisVfyRK",
        "outputId": "bca628f5-cc7d-4cbe-f28d-8b44efd62ed8"
      },
      "outputs": [
        {
          "output_type": "stream",
          "name": "stdout",
          "text": [
            "0.799437694626568\n"
          ]
        }
      ],
      "source": [
        "# cross validation\n",
        "from sklearn.model_selection import cross_val_score\n",
        "print(np.mean(cross_val_score(ridge, X_train, y_train)))"
      ]
    },
    {
      "cell_type": "code",
      "execution_count": null,
      "metadata": {
        "colab": {
          "base_uri": "https://localhost:8080/"
        },
        "id": "YZOtMwFVDtVd",
        "outputId": "6a2239bc-ccac-4a7c-fa3e-9c94b53a982f"
      },
      "outputs": [
        {
          "output_type": "stream",
          "name": "stdout",
          "text": [
            "Training set score: 0.81\n",
            "Test set score: 0.78\n",
            "Number of features used: 10\n",
            "ridge.coef_: [ -3.25782421   2.07552379  -0.83812228 -10.70717001   1.16362824\n",
            "   0.65193105   0.90096387  -0.15527316   4.78278413  -2.95491784]\n",
            "Index(['enrltot', 'teachers', 'calwpct', 'mealpct', 'computer', 'compstu',\n",
            "       'expnstu', 'str', 'avginc', 'elpct'],\n",
            "      dtype='object')\n"
          ]
        }
      ],
      "source": [
        "# Ridge w StandardScaler\n",
        "scaler = preprocessing.StandardScaler()\n",
        "scaler.fit(X_train)\n",
        "X_train_scaled = scaler.transform(X_train)\n",
        "ridge = Ridge().fit(X_train_scaled, y_train)\n",
        "X_test_scaled = scaler.transform(X_test)\n",
        "ridge.score(X_test_scaled, y_test)\n",
        "print(\"Training set score: {:.2f}\".format(ridge.score(X_train_scaled, y_train)))\n",
        "print(\"Test set score: {:.2f}\".format(ridge.score(X_test_scaled, y_test)))\n",
        "print(\"Number of features used: {}\".format(np.sum(ridge.coef_ != 0)))\n",
        "\n",
        "print(\"ridge.coef_: {}\".format(ridge.coef_))\n",
        "print(X_train.columns)"
      ]
    },
    {
      "cell_type": "code",
      "execution_count": null,
      "metadata": {
        "colab": {
          "base_uri": "https://localhost:8080/"
        },
        "id": "hcsg63LsXwBc",
        "outputId": "3edafeb5-c825-42f9-ca9b-b9ca553886c3"
      },
      "outputs": [
        {
          "output_type": "stream",
          "name": "stdout",
          "text": [
            "0.8012177894175725\n"
          ]
        }
      ],
      "source": [
        "# cross validation\n",
        "from sklearn.model_selection import cross_val_score\n",
        "\n",
        "print(np.mean(cross_val_score(ridge, X_train_scaled, y_train)))"
      ]
    },
    {
      "cell_type": "markdown",
      "metadata": {
        "id": "Mrk8puIJ7xRx"
      },
      "source": [
        "Lasso"
      ]
    },
    {
      "cell_type": "code",
      "execution_count": null,
      "metadata": {
        "colab": {
          "base_uri": "https://localhost:8080/"
        },
        "id": "IOCj6YzsaJEK",
        "outputId": "ec7e9ba4-b0ea-4236-cd07-08403c056826"
      },
      "outputs": [
        {
          "output_type": "stream",
          "name": "stdout",
          "text": [
            "Training set score: 0.81\n",
            "Test set score: 0.78\n"
          ]
        },
        {
          "output_type": "stream",
          "name": "stderr",
          "text": [
            "/usr/local/lib/python3.8/dist-packages/sklearn/linear_model/_coordinate_descent.py:647: ConvergenceWarning: Objective did not converge. You might want to increase the number of iterations, check the scale of the features or consider increasing regularisation. Duality gap: 2.576e+03, tolerance: 1.175e+01\n",
            "  model = cd_fast.enet_coordinate_descent(\n"
          ]
        }
      ],
      "source": [
        "# Lasso without StandardScaler\n",
        "from sklearn.linear_model import Lasso\n",
        "lasso = Lasso().fit(X_train, y_train)\n",
        "print(\"Training set score: {:.2f}\".format(lasso.score(X_train, y_train)))\n",
        "print(\"Test set score: {:.2f}\".format(lasso.score(X_test, y_test)))"
      ]
    },
    {
      "cell_type": "code",
      "execution_count": null,
      "metadata": {
        "colab": {
          "base_uri": "https://localhost:8080/"
        },
        "id": "PopHXyXcfogG",
        "outputId": "c41345af-710f-424c-ded6-50f5301d836d"
      },
      "outputs": [
        {
          "output_type": "stream",
          "name": "stdout",
          "text": [
            "0.799557382128512\n"
          ]
        },
        {
          "output_type": "stream",
          "name": "stderr",
          "text": [
            "/usr/local/lib/python3.8/dist-packages/sklearn/linear_model/_coordinate_descent.py:647: ConvergenceWarning: Objective did not converge. You might want to increase the number of iterations, check the scale of the features or consider increasing regularisation. Duality gap: 1.729e+03, tolerance: 9.885e+00\n",
            "  model = cd_fast.enet_coordinate_descent(\n",
            "/usr/local/lib/python3.8/dist-packages/sklearn/linear_model/_coordinate_descent.py:647: ConvergenceWarning: Objective did not converge. You might want to increase the number of iterations, check the scale of the features or consider increasing regularisation. Duality gap: 4.279e+03, tolerance: 9.498e+00\n",
            "  model = cd_fast.enet_coordinate_descent(\n",
            "/usr/local/lib/python3.8/dist-packages/sklearn/linear_model/_coordinate_descent.py:647: ConvergenceWarning: Objective did not converge. You might want to increase the number of iterations, check the scale of the features or consider increasing regularisation. Duality gap: 1.401e+03, tolerance: 8.647e+00\n",
            "  model = cd_fast.enet_coordinate_descent(\n",
            "/usr/local/lib/python3.8/dist-packages/sklearn/linear_model/_coordinate_descent.py:647: ConvergenceWarning: Objective did not converge. You might want to increase the number of iterations, check the scale of the features or consider increasing regularisation. Duality gap: 4.134e+03, tolerance: 9.542e+00\n",
            "  model = cd_fast.enet_coordinate_descent(\n"
          ]
        }
      ],
      "source": [
        "print(np.mean(cross_val_score(lasso, X_train, y_train)))"
      ]
    },
    {
      "cell_type": "code",
      "execution_count": null,
      "metadata": {
        "colab": {
          "base_uri": "https://localhost:8080/"
        },
        "id": "7ZnxxaEB7Rh-",
        "outputId": "fb2eb476-91ff-4c5e-ba4c-583d541a04b0"
      },
      "outputs": [
        {
          "output_type": "stream",
          "name": "stdout",
          "text": [
            "Training set score: 0.81\n",
            "Test set score: 0.77\n",
            "Number of features used: 5\n",
            "lasso.coef_: [ -0.          -0.          -0.         -11.20849097  -0.\n",
            "   0.32730272   0.22042943  -0.           4.51663096  -2.24580117]\n",
            "Index(['enrltot', 'teachers', 'calwpct', 'mealpct', 'computer', 'compstu',\n",
            "       'expnstu', 'str', 'avginc', 'elpct'],\n",
            "      dtype='object')\n"
          ]
        }
      ],
      "source": [
        "# Lasso w StandardScaler\n",
        "lasso = Lasso().fit(X_train_scaled, y_train)\n",
        "print(\"Training set score: {:.2f}\".format(lasso.score(X_train_scaled, y_train)))\n",
        "print(\"Test set score: {:.2f}\".format(lasso.score(X_test_scaled, y_test)))\n",
        "print(\"Number of features used: {}\".format(np.sum(lasso.coef_ != 0)))\n",
        "\n",
        "print(\"lasso.coef_: {}\".format(lasso.coef_))\n",
        "print(X_train.columns)"
      ]
    },
    {
      "cell_type": "code",
      "execution_count": null,
      "metadata": {
        "colab": {
          "base_uri": "https://localhost:8080/"
        },
        "id": "sV8bIJu9YOJF",
        "outputId": "3eeec27f-83e8-47c2-f4a3-a75b9328b7e2"
      },
      "outputs": [
        {
          "output_type": "stream",
          "name": "stdout",
          "text": [
            "0.7986712533383179\n"
          ]
        }
      ],
      "source": [
        "# cross validation\n",
        "from sklearn.model_selection import cross_val_score\n",
        "\n",
        "print(np.mean(cross_val_score(lasso, X_train_scaled, y_train)))"
      ]
    },
    {
      "cell_type": "markdown",
      "metadata": {
        "id": "pAhCdJs071dX"
      },
      "source": [
        " Linear regression"
      ]
    },
    {
      "cell_type": "code",
      "execution_count": null,
      "metadata": {
        "colab": {
          "base_uri": "https://localhost:8080/"
        },
        "id": "DZvqFtwq70oP",
        "outputId": "fcdeaf46-d2ce-4d64-b66d-2cf123a3f976"
      },
      "outputs": [
        {
          "output_type": "stream",
          "name": "stdout",
          "text": [
            "0.799900922435065\n"
          ]
        }
      ],
      "source": [
        "# Linear regression without StandardScaler\n",
        "from sklearn.linear_model import LinearRegression\n",
        "print(np.mean(cross_val_score(LinearRegression(), X_train, y_train)))"
      ]
    },
    {
      "cell_type": "code",
      "execution_count": null,
      "metadata": {
        "colab": {
          "base_uri": "https://localhost:8080/"
        },
        "id": "3dDWk8y3bxEf",
        "outputId": "278ac237-c6dd-46ee-e9a8-870ed684a980"
      },
      "outputs": [
        {
          "output_type": "stream",
          "name": "stdout",
          "text": [
            "0.7999009224350647\n"
          ]
        }
      ],
      "source": [
        "# Linear regression w StandardScaler\n",
        "print(np.mean(cross_val_score(LinearRegression(), X_train_scaled, y_train)))"
      ]
    },
    {
      "cell_type": "code",
      "execution_count": null,
      "metadata": {
        "colab": {
          "base_uri": "https://localhost:8080/"
        },
        "id": "bwDVeDCcf_zt",
        "outputId": "dc8403de-64fa-4ab9-e42d-e9d19da186ff"
      },
      "outputs": [
        {
          "output_type": "stream",
          "name": "stdout",
          "text": [
            "Index(['enrltot', 'teachers', 'calwpct', 'mealpct', 'computer', 'compstu',\n",
            "       'expnstu', 'str', 'avginc', 'elpct'],\n",
            "      dtype='object')\n",
            "lr.coef_: [ -7.91273221   6.74669513  -0.78189225 -10.89893161   1.08518268\n",
            "   0.66762892   0.94432931   0.03332241   4.69232357  -2.87292334]\n"
          ]
        }
      ],
      "source": [
        "lr = LinearRegression()\n",
        "lr.fit(X_train_scaled, y_train)\n",
        "print(X_train.columns)\n",
        "print(\"lr.coef_: \"+str(lr.coef_))"
      ]
    },
    {
      "cell_type": "markdown",
      "metadata": {
        "id": "AwzlSbE7hhKK"
      },
      "source": [
        "KNN"
      ]
    },
    {
      "cell_type": "code",
      "execution_count": null,
      "metadata": {
        "colab": {
          "base_uri": "https://localhost:8080/"
        },
        "id": "nXq5TWYchjju",
        "outputId": "007d7953-ed50-49a8-8b4b-22a1f17cc6fc"
      },
      "outputs": [
        {
          "output_type": "stream",
          "name": "stdout",
          "text": [
            "accuracy:-0.08770428696790486\n"
          ]
        }
      ],
      "source": [
        "# KNN without StandardScaler\n",
        "from sklearn.neighbors import KNeighborsRegressor\n",
        "\n",
        "#Print accuracy\n",
        "print(\"accuracy:\"+str(\n",
        "np.mean(cross_val_score(KNeighborsRegressor(n_neighbors=5), X_train, y_train))))\n",
        "\n"
      ]
    },
    {
      "cell_type": "code",
      "execution_count": null,
      "metadata": {
        "colab": {
          "base_uri": "https://localhost:8080/"
        },
        "id": "U27L9EebiUSg",
        "outputId": "a14542a9-3f7f-46fc-a31c-779f07985626"
      },
      "outputs": [
        {
          "output_type": "stream",
          "name": "stdout",
          "text": [
            "accuracy:0.7163459045224716\n"
          ]
        }
      ],
      "source": [
        "# KNN w StandardScaler\n",
        "print(\"accuracy:\"+str(\n",
        "np.mean(cross_val_score(KNeighborsRegressor(n_neighbors=5), X_train_scaled, y_train))))\n"
      ]
    },
    {
      "cell_type": "markdown",
      "source": [
        "Scaling the data with StandardScaler greatly helps in Knn for regression and ridge, while performing equally well in lasso and linear regression."
      ],
      "metadata": {
        "id": "PiTgzAKYBba9"
      }
    },
    {
      "cell_type": "markdown",
      "metadata": {
        "id": "ig5vHvG9iW1-"
      },
      "source": [
        "1.4 Tune the parameters of the models where possible using GridSearchCV. Do the results improve?"
      ]
    },
    {
      "cell_type": "code",
      "execution_count": null,
      "metadata": {
        "colab": {
          "base_uri": "https://localhost:8080/"
        },
        "id": "q50fO3mQjvWL",
        "outputId": "8caa2390-b02e-4521-d88e-0a9baf169b7b"
      },
      "outputs": [
        {
          "output_type": "stream",
          "name": "stdout",
          "text": [
            "KNN for REGRESSION (SCALED DATA)\n",
            "Best Parameter: {'n_neighbors': 9}\n",
            "Best Cross-Validation Score: 0.737\n",
            "Test set Score: 0.753\n"
          ]
        }
      ],
      "source": [
        "#Tune KNN with GridSearchCV\n",
        "from sklearn.pipeline import make_pipeline\n",
        "from sklearn.preprocessing import StandardScaler\n",
        "from sklearn.model_selection import GridSearchCV\n",
        "knn_param_grid = {'n_neighbors': range(1, 10)}\n",
        "knn_grid = GridSearchCV(KNeighborsRegressor(), knn_param_grid).fit(X_train_scaled, y_train)\n",
        "\n",
        "print(\"KNN for REGRESSION (SCALED DATA)\")\n",
        "print(\"Best Parameter: {}\".format(knn_grid.best_params_))\n",
        "print(\"Best Cross-Validation Score: {:.3f}\".format(knn_grid.best_score_))\n",
        "print(\"Test set Score: {:.3f}\".format(knn_grid.score(X_test_scaled, y_test)))\n"
      ]
    },
    {
      "cell_type": "code",
      "execution_count": null,
      "metadata": {
        "colab": {
          "base_uri": "https://localhost:8080/"
        },
        "id": "ubr0dtJtw6q5",
        "outputId": "5354bc7a-982c-41d5-d0d0-1516887a663c"
      },
      "outputs": [
        {
          "output_type": "stream",
          "name": "stdout",
          "text": [
            "{'ridge__alpha': 10}\n",
            "0.7871648586223784\n"
          ]
        }
      ],
      "source": [
        "#Tune ridge with GridSearchCV\n",
        "ridge_pipe = make_pipeline(StandardScaler(), Ridge())\n",
        "param_grid = {'ridge__alpha': [0.1, 1, 10]}\n",
        "grid = GridSearchCV(ridge_pipe, param_grid, cv=10)\n",
        "grid.fit(X_train, y_train)\n",
        "print(grid.best_params_)\n",
        "print(grid.score(X_test, y_test))\n"
      ]
    },
    {
      "cell_type": "code",
      "source": [],
      "metadata": {
        "id": "hC3D2wz_bAPh"
      },
      "execution_count": null,
      "outputs": []
    },
    {
      "cell_type": "code",
      "execution_count": null,
      "metadata": {
        "colab": {
          "base_uri": "https://localhost:8080/"
        },
        "id": "m017dKzM4cmj",
        "outputId": "6e884ab2-bd3f-4ca5-c8e8-830a76f25466"
      },
      "outputs": [
        {
          "output_type": "stream",
          "name": "stderr",
          "text": [
            "/usr/local/lib/python3.8/dist-packages/sklearn/linear_model/_coordinate_descent.py:647: ConvergenceWarning: Objective did not converge. You might want to increase the number of iterations, check the scale of the features or consider increasing regularisation. Duality gap: 1.208e+01, tolerance: 1.047e+01\n",
            "  model = cd_fast.enet_coordinate_descent(\n"
          ]
        },
        {
          "output_type": "stream",
          "name": "stdout",
          "text": [
            "{'lasso__alpha': 0.1}\n",
            "0.7842909580416035\n"
          ]
        }
      ],
      "source": [
        "#Tune lasso with GridSearchCV\n",
        "lasso_pipe = make_pipeline(StandardScaler(), Lasso())\n",
        "param_grid = {'lasso__alpha': [0.01, 0.1, 1, 10, 100]}\n",
        "grid = GridSearchCV(lasso_pipe, param_grid, cv=10)\n",
        "grid.fit(X_train, y_train)\n",
        "print(grid.best_params_)\n",
        "print(grid.score(X_test, y_test))\n"
      ]
    },
    {
      "cell_type": "code",
      "source": [
        "# Lasso\n",
        "lasso = Lasso(alpha = 0.1).fit(X_train_scaled, y_train)\n",
        "# cross validation\n",
        "from sklearn.model_selection import cross_val_score\n",
        "\n",
        "print(np.mean(cross_val_score(lasso, X_train_scaled, y_train)))\n"
      ],
      "metadata": {
        "colab": {
          "base_uri": "https://localhost:8080/"
        },
        "id": "fOzV5CHDZKsW",
        "outputId": "5d449eb8-7044-4227-faae-c5e19adfde42"
      },
      "execution_count": null,
      "outputs": [
        {
          "output_type": "stream",
          "name": "stdout",
          "text": [
            "0.8026139118172899\n"
          ]
        }
      ]
    },
    {
      "cell_type": "code",
      "source": [
        "# Ridge\n",
        "ridge = Ridge(alpha = 10).fit(X_train_scaled, y_train)\n",
        "# cross validation\n",
        "from sklearn.model_selection import cross_val_score\n",
        "\n",
        "print(np.mean(cross_val_score(ridge, X_train_scaled, y_train)))\n"
      ],
      "metadata": {
        "colab": {
          "base_uri": "https://localhost:8080/"
        },
        "id": "n21adYPnZ5D6",
        "outputId": "0b3ea25e-2af8-4e29-f9d9-8422d90d715b"
      },
      "execution_count": null,
      "outputs": [
        {
          "output_type": "stream",
          "name": "stdout",
          "text": [
            "0.8018183768840315\n"
          ]
        }
      ]
    },
    {
      "cell_type": "code",
      "source": [
        "# Knn\n",
        "knn = KNeighborsRegressor(n_neighbors=6).fit(X_train_scaled, y_train)\n",
        "# cross validation\n",
        "from sklearn.model_selection import cross_val_score\n",
        "\n",
        "print(np.mean(cross_val_score(knn, X_train_scaled, y_train)))\n"
      ],
      "metadata": {
        "colab": {
          "base_uri": "https://localhost:8080/"
        },
        "id": "IGKBbpDBbHDz",
        "outputId": "bc49501c-5eb8-4fd9-bdcf-cac277e3697e"
      },
      "execution_count": null,
      "outputs": [
        {
          "output_type": "stream",
          "name": "stdout",
          "text": [
            "0.7248233780082242\n"
          ]
        }
      ]
    },
    {
      "cell_type": "markdown",
      "source": [
        "Knn with GridSearch shows that the best parameter is 6. Using the parameter given by GridSearch and after cross validation, the score is 0.8485, which is higher than the score of 0.8457. Ridge with GridSearch shows that the best parameter is alpha = 10. Using the parameter given by GridSearch and after cross validation, the score is 0.9134. This score is higher than the previous ridge score of 0.9104. Lasso with GridSearch shows that the best parameter is alpha = 0.1. Using the parameter given by GridSearch and after cross validation, the score is 0.9124. This score is higher than the previous lasso score of 0.9084.\n",
        "\n"
      ],
      "metadata": {
        "id": "AtVkBkc7B1Ls"
      }
    },
    {
      "cell_type": "markdown",
      "source": [
        "1.5 Compare the coefficients of your two best linear models (not knn), do they agree on which features are important?"
      ],
      "metadata": {
        "id": "nrW1K2UhB4Za"
      }
    },
    {
      "cell_type": "markdown",
      "source": [
        "Compare the result of ridge and lasso, lasso uses 6 features while ridge uses all features. Overall, both ridge and lasso agree on important features. The only difference is that the ridge model believes the importance of the number of computers and teachers are greater than percent of English learners and expenditure per student.\n"
      ],
      "metadata": {
        "id": "uOwDMfAOB-Hz"
      }
    },
    {
      "cell_type": "markdown",
      "source": [
        "1.6 Discuss which final model you would choose to predict new data"
      ],
      "metadata": {
        "id": "TbAWnvUqCCRc"
      }
    },
    {
      "cell_type": "markdown",
      "source": [
        "I will choose ridge since after GridSearch and cross validation, the accuracy of ridge after GridSearch and cross validation is slightly higher than lasso. Although lasso offers a simpler model, ridge predicts the test data better.\n"
      ],
      "metadata": {
        "id": "UhXv2p2gCEHE"
      }
    },
    {
      "cell_type": "markdown",
      "metadata": {
        "id": "JSUGVOvE5Lhh"
      },
      "source": [
        " Part 2: Classification on red and white wine characteristics"
      ]
    },
    {
      "cell_type": "code",
      "execution_count": null,
      "metadata": {
        "id": "1ivvHIkf5KdZ"
      },
      "outputs": [],
      "source": [
        "df_white = pd.read_csv(\"https://archive.ics.uci.edu/ml/machine-learning-databases/wine-quality/winequality-white.csv\", sep=';')"
      ]
    },
    {
      "cell_type": "code",
      "execution_count": null,
      "metadata": {
        "id": "EHhmuiCKJnHt"
      },
      "outputs": [],
      "source": [
        "df_red = pd.read_csv(\"/content/winequality-red.csv\", sep=';')"
      ]
    },
    {
      "cell_type": "code",
      "execution_count": null,
      "metadata": {
        "colab": {
          "base_uri": "https://localhost:8080/",
          "height": 285
        },
        "id": "JKcNR_JHCoCB",
        "outputId": "2136e312-d1c0-4699-be67-b4e23c6f4ee5"
      },
      "outputs": [
        {
          "output_type": "execute_result",
          "data": {
            "text/plain": [
              "   fixed acidity  volatile acidity  citric acid  residual sugar  chlorides  \\\n",
              "0            7.0              0.27         0.36            20.7      0.045   \n",
              "1            7.0              0.27         0.36            20.7      0.045   \n",
              "2            6.3              0.30         0.34             1.6      0.049   \n",
              "3            6.3              0.30         0.34             1.6      0.049   \n",
              "4            8.1              0.28         0.40             6.9      0.050   \n",
              "\n",
              "   free sulfur dioxide  total sulfur dioxide  density    pH  sulphates  \\\n",
              "0                 45.0                 170.0   1.0010  3.00       0.45   \n",
              "1                 45.0                 170.0   1.0010  3.00       0.45   \n",
              "2                 14.0                 132.0   0.9940  3.30       0.49   \n",
              "3                 14.0                 132.0   0.9940  3.30       0.49   \n",
              "4                 30.0                  97.0   0.9951  3.26       0.44   \n",
              "\n",
              "   alcohol  quality  winetype  \n",
              "0      8.8        6         0  \n",
              "1      8.8        6         0  \n",
              "2      9.5        6         0  \n",
              "3      9.5        6         0  \n",
              "4     10.1        6         0  "
            ],
            "text/html": [
              "\n",
              "  <div id=\"df-952044d7-9e2a-4b1f-abe8-307e92429860\">\n",
              "    <div class=\"colab-df-container\">\n",
              "      <div>\n",
              "<style scoped>\n",
              "    .dataframe tbody tr th:only-of-type {\n",
              "        vertical-align: middle;\n",
              "    }\n",
              "\n",
              "    .dataframe tbody tr th {\n",
              "        vertical-align: top;\n",
              "    }\n",
              "\n",
              "    .dataframe thead th {\n",
              "        text-align: right;\n",
              "    }\n",
              "</style>\n",
              "<table border=\"1\" class=\"dataframe\">\n",
              "  <thead>\n",
              "    <tr style=\"text-align: right;\">\n",
              "      <th></th>\n",
              "      <th>fixed acidity</th>\n",
              "      <th>volatile acidity</th>\n",
              "      <th>citric acid</th>\n",
              "      <th>residual sugar</th>\n",
              "      <th>chlorides</th>\n",
              "      <th>free sulfur dioxide</th>\n",
              "      <th>total sulfur dioxide</th>\n",
              "      <th>density</th>\n",
              "      <th>pH</th>\n",
              "      <th>sulphates</th>\n",
              "      <th>alcohol</th>\n",
              "      <th>quality</th>\n",
              "      <th>winetype</th>\n",
              "    </tr>\n",
              "  </thead>\n",
              "  <tbody>\n",
              "    <tr>\n",
              "      <th>0</th>\n",
              "      <td>7.0</td>\n",
              "      <td>0.27</td>\n",
              "      <td>0.36</td>\n",
              "      <td>20.7</td>\n",
              "      <td>0.045</td>\n",
              "      <td>45.0</td>\n",
              "      <td>170.0</td>\n",
              "      <td>1.0010</td>\n",
              "      <td>3.00</td>\n",
              "      <td>0.45</td>\n",
              "      <td>8.8</td>\n",
              "      <td>6</td>\n",
              "      <td>0</td>\n",
              "    </tr>\n",
              "    <tr>\n",
              "      <th>1</th>\n",
              "      <td>7.0</td>\n",
              "      <td>0.27</td>\n",
              "      <td>0.36</td>\n",
              "      <td>20.7</td>\n",
              "      <td>0.045</td>\n",
              "      <td>45.0</td>\n",
              "      <td>170.0</td>\n",
              "      <td>1.0010</td>\n",
              "      <td>3.00</td>\n",
              "      <td>0.45</td>\n",
              "      <td>8.8</td>\n",
              "      <td>6</td>\n",
              "      <td>0</td>\n",
              "    </tr>\n",
              "    <tr>\n",
              "      <th>2</th>\n",
              "      <td>6.3</td>\n",
              "      <td>0.30</td>\n",
              "      <td>0.34</td>\n",
              "      <td>1.6</td>\n",
              "      <td>0.049</td>\n",
              "      <td>14.0</td>\n",
              "      <td>132.0</td>\n",
              "      <td>0.9940</td>\n",
              "      <td>3.30</td>\n",
              "      <td>0.49</td>\n",
              "      <td>9.5</td>\n",
              "      <td>6</td>\n",
              "      <td>0</td>\n",
              "    </tr>\n",
              "    <tr>\n",
              "      <th>3</th>\n",
              "      <td>6.3</td>\n",
              "      <td>0.30</td>\n",
              "      <td>0.34</td>\n",
              "      <td>1.6</td>\n",
              "      <td>0.049</td>\n",
              "      <td>14.0</td>\n",
              "      <td>132.0</td>\n",
              "      <td>0.9940</td>\n",
              "      <td>3.30</td>\n",
              "      <td>0.49</td>\n",
              "      <td>9.5</td>\n",
              "      <td>6</td>\n",
              "      <td>0</td>\n",
              "    </tr>\n",
              "    <tr>\n",
              "      <th>4</th>\n",
              "      <td>8.1</td>\n",
              "      <td>0.28</td>\n",
              "      <td>0.40</td>\n",
              "      <td>6.9</td>\n",
              "      <td>0.050</td>\n",
              "      <td>30.0</td>\n",
              "      <td>97.0</td>\n",
              "      <td>0.9951</td>\n",
              "      <td>3.26</td>\n",
              "      <td>0.44</td>\n",
              "      <td>10.1</td>\n",
              "      <td>6</td>\n",
              "      <td>0</td>\n",
              "    </tr>\n",
              "  </tbody>\n",
              "</table>\n",
              "</div>\n",
              "      <button class=\"colab-df-convert\" onclick=\"convertToInteractive('df-952044d7-9e2a-4b1f-abe8-307e92429860')\"\n",
              "              title=\"Convert this dataframe to an interactive table.\"\n",
              "              style=\"display:none;\">\n",
              "        \n",
              "  <svg xmlns=\"http://www.w3.org/2000/svg\" height=\"24px\"viewBox=\"0 0 24 24\"\n",
              "       width=\"24px\">\n",
              "    <path d=\"M0 0h24v24H0V0z\" fill=\"none\"/>\n",
              "    <path d=\"M18.56 5.44l.94 2.06.94-2.06 2.06-.94-2.06-.94-.94-2.06-.94 2.06-2.06.94zm-11 1L8.5 8.5l.94-2.06 2.06-.94-2.06-.94L8.5 2.5l-.94 2.06-2.06.94zm10 10l.94 2.06.94-2.06 2.06-.94-2.06-.94-.94-2.06-.94 2.06-2.06.94z\"/><path d=\"M17.41 7.96l-1.37-1.37c-.4-.4-.92-.59-1.43-.59-.52 0-1.04.2-1.43.59L10.3 9.45l-7.72 7.72c-.78.78-.78 2.05 0 2.83L4 21.41c.39.39.9.59 1.41.59.51 0 1.02-.2 1.41-.59l7.78-7.78 2.81-2.81c.8-.78.8-2.07 0-2.86zM5.41 20L4 18.59l7.72-7.72 1.47 1.35L5.41 20z\"/>\n",
              "  </svg>\n",
              "      </button>\n",
              "      \n",
              "  <style>\n",
              "    .colab-df-container {\n",
              "      display:flex;\n",
              "      flex-wrap:wrap;\n",
              "      gap: 12px;\n",
              "    }\n",
              "\n",
              "    .colab-df-convert {\n",
              "      background-color: #E8F0FE;\n",
              "      border: none;\n",
              "      border-radius: 50%;\n",
              "      cursor: pointer;\n",
              "      display: none;\n",
              "      fill: #1967D2;\n",
              "      height: 32px;\n",
              "      padding: 0 0 0 0;\n",
              "      width: 32px;\n",
              "    }\n",
              "\n",
              "    .colab-df-convert:hover {\n",
              "      background-color: #E2EBFA;\n",
              "      box-shadow: 0px 1px 2px rgba(60, 64, 67, 0.3), 0px 1px 3px 1px rgba(60, 64, 67, 0.15);\n",
              "      fill: #174EA6;\n",
              "    }\n",
              "\n",
              "    [theme=dark] .colab-df-convert {\n",
              "      background-color: #3B4455;\n",
              "      fill: #D2E3FC;\n",
              "    }\n",
              "\n",
              "    [theme=dark] .colab-df-convert:hover {\n",
              "      background-color: #434B5C;\n",
              "      box-shadow: 0px 1px 3px 1px rgba(0, 0, 0, 0.15);\n",
              "      filter: drop-shadow(0px 1px 2px rgba(0, 0, 0, 0.3));\n",
              "      fill: #FFFFFF;\n",
              "    }\n",
              "  </style>\n",
              "\n",
              "      <script>\n",
              "        const buttonEl =\n",
              "          document.querySelector('#df-952044d7-9e2a-4b1f-abe8-307e92429860 button.colab-df-convert');\n",
              "        buttonEl.style.display =\n",
              "          google.colab.kernel.accessAllowed ? 'block' : 'none';\n",
              "\n",
              "        async function convertToInteractive(key) {\n",
              "          const element = document.querySelector('#df-952044d7-9e2a-4b1f-abe8-307e92429860');\n",
              "          const dataTable =\n",
              "            await google.colab.kernel.invokeFunction('convertToInteractive',\n",
              "                                                     [key], {});\n",
              "          if (!dataTable) return;\n",
              "\n",
              "          const docLinkHtml = 'Like what you see? Visit the ' +\n",
              "            '<a target=\"_blank\" href=https://colab.research.google.com/notebooks/data_table.ipynb>data table notebook</a>'\n",
              "            + ' to learn more about interactive tables.';\n",
              "          element.innerHTML = '';\n",
              "          dataTable['output_type'] = 'display_data';\n",
              "          await google.colab.output.renderOutput(dataTable, element);\n",
              "          const docLink = document.createElement('div');\n",
              "          docLink.innerHTML = docLinkHtml;\n",
              "          element.appendChild(docLink);\n",
              "        }\n",
              "      </script>\n",
              "    </div>\n",
              "  </div>\n",
              "  "
            ]
          },
          "metadata": {},
          "execution_count": 120
        }
      ],
      "source": [
        "df_white['winetype'] = 0\n",
        "df_red['winetype'] = 1\n",
        "df2 = df_white.merge(df_red, how = 'outer')\n",
        "df2.head(5)"
      ]
    },
    {
      "cell_type": "markdown",
      "metadata": {
        "id": "ElIgtHpGMImd"
      },
      "source": [
        "2.1 Visualize the univariate distribution of the target feature and each of the three explanatory variables that you think are likely to have a relationship with the target feature.   "
      ]
    },
    {
      "cell_type": "code",
      "execution_count": null,
      "metadata": {
        "colab": {
          "base_uri": "https://localhost:8080/",
          "height": 297
        },
        "id": "1SL8QZvuMFgs",
        "outputId": "e878de33-132a-4470-972e-608551a686b6"
      },
      "outputs": [
        {
          "output_type": "execute_result",
          "data": {
            "text/plain": [
              "Text(0, 0.5, 'count')"
            ]
          },
          "metadata": {},
          "execution_count": 113
        },
        {
          "output_type": "display_data",
          "data": {
            "text/plain": [
              "<Figure size 432x288 with 1 Axes>"
            ],
            "image/png": "[encoded data removed]"
          },
          "metadata": {
            "needs_background": "light"
          }
        }
      ],
      "source": [
        "from matplotlib import pyplot as plt\n",
        "\n",
        "df2['winetype'].hist()\n",
        "plt.xlabel('winetype')\n",
        "plt.ylabel('count')"
      ]
    },
    {
      "cell_type": "code",
      "execution_count": null,
      "metadata": {
        "colab": {
          "base_uri": "https://localhost:8080/",
          "height": 297
        },
        "id": "csS4_Gi5TBJk",
        "outputId": "f7d26447-4863-422a-d173-348c5888ba60"
      },
      "outputs": [
        {
          "output_type": "execute_result",
          "data": {
            "text/plain": [
              "Text(0, 0.5, 'count')"
            ]
          },
          "metadata": {},
          "execution_count": 63
        },
        {
          "output_type": "display_data",
          "data": {
            "text/plain": [
              "<Figure size 432x288 with 1 Axes>"
            ],
            "image/png": "[encoded data removed]"
          },
          "metadata": {
            "needs_background": "light"
          }
        }
      ],
      "source": [
        "df2['pH'].hist()\n",
        "plt.xlabel('pH')\n",
        "plt.ylabel('count')"
      ]
    },
    {
      "cell_type": "code",
      "execution_count": null,
      "metadata": {
        "colab": {
          "base_uri": "https://localhost:8080/",
          "height": 297
        },
        "id": "Q6c5_LKrTRKp",
        "outputId": "ce9e66db-d9d8-4b5f-df2d-eeea2bc55bc7"
      },
      "outputs": [
        {
          "output_type": "execute_result",
          "data": {
            "text/plain": [
              "Text(0, 0.5, 'count')"
            ]
          },
          "metadata": {},
          "execution_count": 64
        },
        {
          "output_type": "display_data",
          "data": {
            "text/plain": [
              "<Figure size 432x288 with 1 Axes>"
            ],
            "image/png": "[encoded data removed]"
          },
          "metadata": {
            "needs_background": "light"
          }
        }
      ],
      "source": [
        "df2['sulphates'].hist()\n",
        "plt.xlabel('sulphates')\n",
        "plt.ylabel('count')"
      ]
    },
    {
      "cell_type": "code",
      "execution_count": null,
      "metadata": {
        "colab": {
          "base_uri": "https://localhost:8080/",
          "height": 297
        },
        "id": "5N8ICRGDTTzG",
        "outputId": "1ce7aa2f-e32d-4f4f-e241-5a545574ed47"
      },
      "outputs": [
        {
          "output_type": "execute_result",
          "data": {
            "text/plain": [
              "Text(0, 0.5, 'count')"
            ]
          },
          "metadata": {},
          "execution_count": 65
        },
        {
          "output_type": "display_data",
          "data": {
            "text/plain": [
              "<Figure size 432x288 with 1 Axes>"
            ],
            "image/png": "[encoded data removed]"
          },
          "metadata": {
            "needs_background": "light"
          }
        }
      ],
      "source": [
        "df2['density'].hist()\n",
        "plt.xlabel('density')\n",
        "plt.ylabel('count')"
      ]
    },
    {
      "cell_type": "markdown",
      "metadata": {
        "id": "q7rjXMeUTnU_"
      },
      "source": [
        "2.2 Split data into training and test set. Build models that evaluate the relationship between all available X variables in the dataset and the target variable. Evaluate Logistic Regression, Penalized Logistic Regression, and KNN for classification using cross-validation. How different are the results? How does scaling the data with StandardScaler influence the results?"
      ]
    },
    {
      "cell_type": "markdown",
      "metadata": {
        "id": "6YXhlfMBUAMS"
      },
      "source": [
        "Logistic Regression"
      ]
    },
    {
      "cell_type": "code",
      "execution_count": null,
      "metadata": {
        "colab": {
          "base_uri": "https://localhost:8080/"
        },
        "id": "kt8tjbp7Tsvf",
        "outputId": "7ffd7e12-6581-4aa7-b6f0-5cb5ef4d064f"
      },
      "outputs": [
        {
          "output_type": "stream",
          "name": "stdout",
          "text": [
            "Training set score: 0.981\n",
            "Test set score: 0.980\n"
          ]
        },
        {
          "output_type": "stream",
          "name": "stderr",
          "text": [
            "/usr/local/lib/python3.8/dist-packages/sklearn/linear_model/_logistic.py:814: ConvergenceWarning: lbfgs failed to converge (status=1):\n",
            "STOP: TOTAL NO. of ITERATIONS REACHED LIMIT.\n",
            "\n",
            "Increase the number of iterations (max_iter) or scale the data as shown in:\n",
            "    https://scikit-learn.org/stable/modules/preprocessing.html\n",
            "Please also refer to the documentation for alternative solver options:\n",
            "    https://scikit-learn.org/stable/modules/linear_model.html#logistic-regression\n",
            "  n_iter_i = _check_optimize_result(\n"
          ]
        }
      ],
      "source": [
        "#split data\n",
        "from sklearn.model_selection import train_test_split\n",
        "y = df2['winetype']\n",
        "X = df2.drop('winetype', axis = 1)\n",
        "\n",
        "X_train, X_test, y_train, y_test = train_test_split(X, y, random_state=42)\n",
        "\n",
        "#logistic regression\n",
        "from sklearn.linear_model import LogisticRegression\n",
        "\n",
        "logreg = LogisticRegression(penalty='none').fit(X_train, y_train)\n",
        "\n",
        "print(\"Training set score: {:.3f}\".format(logreg.score(X_train, y_train)))\n",
        "print(\"Test set score: {:.3f}\".format(logreg.score(X_test, y_test)))\n"
      ]
    },
    {
      "cell_type": "code",
      "execution_count": null,
      "metadata": {
        "colab": {
          "base_uri": "https://localhost:8080/"
        },
        "id": "nu5iaB3RVd7J",
        "outputId": "06e4614a-4693-4c48-f929-efb0e5e0a6db"
      },
      "outputs": [
        {
          "output_type": "stream",
          "name": "stderr",
          "text": [
            "/usr/local/lib/python3.8/dist-packages/sklearn/base.py:450: UserWarning: X does not have valid feature names, but LogisticRegression was fitted with feature names\n",
            "  warnings.warn(\n",
            "/usr/local/lib/python3.8/dist-packages/sklearn/base.py:450: UserWarning: X does not have valid feature names, but LogisticRegression was fitted with feature names\n",
            "  warnings.warn(\n",
            "/usr/local/lib/python3.8/dist-packages/sklearn/base.py:450: UserWarning: X does not have valid feature names, but LogisticRegression was fitted with feature names\n",
            "  warnings.warn(\n"
          ]
        },
        {
          "output_type": "stream",
          "name": "stdout",
          "text": [
            "Training set score: 0.87\n",
            "Test set score: 0.87\n",
            "Number of features used: 12\n",
            "Index(['fixed acidity', 'volatile acidity', 'citric acid', 'residual sugar',\n",
            "       'chlorides', 'free sulfur dioxide', 'total sulfur dioxide', 'density',\n",
            "       'pH', 'sulphates', 'alcohol', 'quality'],\n",
            "      dtype='object')\n",
            "logreg.coef_: [[ 0.8894267  14.2982338  -2.92348641 -0.25495735  2.27604653  0.08199994\n",
            "  -0.08091229 -2.84880115  1.07798391 11.68460438 -0.90814411 -0.16705995]]\n",
            "0.993637234770705\n"
          ]
        }
      ],
      "source": [
        "#logistic regression with StandrdScaler\n",
        "scaler = preprocessing.StandardScaler()\n",
        "scaler.fit(X_train)\n",
        "X_train_scaled = scaler.transform(X_train)\n",
        "X_test_scaled = scaler.transform(X_test)\n",
        "logreg.score(X_test_scaled, y_test)\n",
        "print(\"Training set score: {:.2f}\".format(logreg.score(X_train_scaled, y_train)))\n",
        "print(\"Test set score: {:.2f}\".format(logreg.score(X_test_scaled, y_test)))\n",
        "print(\"Number of features used: {}\".format(np.sum(logreg.coef_ != 0)))\n",
        "\n",
        "print(X_train.columns)\n",
        "print(\"logreg.coef_: {}\".format(logreg.coef_))\n",
        "\n",
        "# cross validation\n",
        "from sklearn.model_selection import cross_val_score\n",
        "\n",
        "print(np.mean(cross_val_score(logreg, X_train_scaled, y_train)))"
      ]
    },
    {
      "cell_type": "code",
      "execution_count": null,
      "metadata": {
        "colab": {
          "base_uri": "https://localhost:8080/"
        },
        "id": "qM7xa6B9c805",
        "outputId": "4fad9356-4502-40fa-9e9c-9c76901ad2a2"
      },
      "outputs": [
        {
          "output_type": "stream",
          "name": "stdout",
          "text": [
            "Index(['fixed acidity', 'volatile acidity', 'citric acid', 'residual sugar',\n",
            "       'chlorides', 'free sulfur dioxide', 'total sulfur dioxide', 'density',\n",
            "       'pH', 'sulphates', 'alcohol', 'quality'],\n",
            "      dtype='object')\n",
            "logreg .coef_: [[ 0.48343314  1.27298564 -0.4505842  -3.68781693  0.86509071  1.03231982\n",
            "  -3.11480786  3.43785648  0.34711192  0.63618944  1.141465    0.27294128]]\n",
            "Training set score: 0.994\n",
            "Test set score: 0.993\n",
            "0.9926111725372506\n",
            "Training set score: 0.981\n",
            "Test set score: 0.975\n"
          ]
        },
        {
          "output_type": "stream",
          "name": "stderr",
          "text": [
            "/usr/local/lib/python3.8/dist-packages/sklearn/linear_model/_logistic.py:814: ConvergenceWarning: lbfgs failed to converge (status=1):\n",
            "STOP: TOTAL NO. of ITERATIONS REACHED LIMIT.\n",
            "\n",
            "Increase the number of iterations (max_iter) or scale the data as shown in:\n",
            "    https://scikit-learn.org/stable/modules/preprocessing.html\n",
            "Please also refer to the documentation for alternative solver options:\n",
            "    https://scikit-learn.org/stable/modules/linear_model.html#logistic-regression\n",
            "  n_iter_i = _check_optimize_result(\n"
          ]
        }
      ],
      "source": [
        "logreg = LogisticRegression(penalty='l2').fit(X_train_scaled, y_train)\n",
        "\n",
        "print(X_train.columns)\n",
        "print(\"logreg .coef_: {}\".format(logreg .coef_))\n",
        "\n",
        "print(\"Training set score: {:.3f}\".format(logreg.score(X_train_scaled, y_train)))\n",
        "print(\"Test set score: {:.3f}\".format(logreg.score(X_test_scaled, y_test)))\n",
        "\n",
        "# cross validation\n",
        "from sklearn.model_selection import cross_val_score\n",
        "\n",
        "print(np.mean(cross_val_score(logreg, X_train_scaled, y_train)))#penalized logistic regression\n",
        "logreg = LogisticRegression(penalty='l2').fit(X_train, y_train)\n",
        "\n",
        "print(\"Training set score: {:.3f}\".format(logreg.score(X_train, y_train)))\n",
        "print(\"Test set score: {:.3f}\".format(logreg.score(X_test, y_test)))\n"
      ]
    },
    {
      "cell_type": "code",
      "execution_count": null,
      "metadata": {
        "colab": {
          "base_uri": "https://localhost:8080/"
        },
        "id": "_XWtLSS8dOf_",
        "outputId": "8e5b505a-ce2d-43b0-815f-72ab3647a490"
      },
      "outputs": [
        {
          "output_type": "stream",
          "name": "stdout",
          "text": [
            "Index(['fixed acidity', 'volatile acidity', 'citric acid', 'residual sugar',\n",
            "       'chlorides', 'free sulfur dioxide', 'total sulfur dioxide', 'density',\n",
            "       'pH', 'sulphates', 'alcohol', 'quality'],\n",
            "      dtype='object')\n",
            "logreg .coef_: [[ 0.48343314  1.27298564 -0.4505842  -3.68781693  0.86509071  1.03231982\n",
            "  -3.11480786  3.43785648  0.34711192  0.63618944  1.141465    0.27294128]]\n",
            "Training set score: 0.994\n",
            "Test set score: 0.993\n",
            "0.9926111725372506\n"
          ]
        }
      ],
      "source": [
        "#penalized logistic regression w StandardScaler\n",
        "logreg = LogisticRegression(penalty='l2').fit(X_train_scaled, y_train)\n",
        "\n",
        "print(X_train.columns)\n",
        "print(\"logreg .coef_: {}\".format(logreg .coef_))\n",
        "\n",
        "print(\"Training set score: {:.3f}\".format(logreg.score(X_train_scaled, y_train)))\n",
        "print(\"Test set score: {:.3f}\".format(logreg.score(X_test_scaled, y_test)))\n",
        "\n",
        "# cross validation\n",
        "from sklearn.model_selection import cross_val_score\n",
        "\n",
        "print(np.mean(cross_val_score(logreg, X_train_scaled, y_train)))"
      ]
    },
    {
      "cell_type": "markdown",
      "metadata": {
        "id": "Upzppm51eEsi"
      },
      "source": [
        "KNN"
      ]
    },
    {
      "cell_type": "code",
      "execution_count": null,
      "metadata": {
        "colab": {
          "base_uri": "https://localhost:8080/"
        },
        "id": "Fo4tyOW-eECS",
        "outputId": "c0ed3ef4-4b19-47b0-cc8e-7dd95410e356"
      },
      "outputs": [
        {
          "output_type": "stream",
          "name": "stdout",
          "text": [
            "accuracy: 0.936\n"
          ]
        }
      ],
      "source": [
        "# KNN without StandardScaler\n",
        "from sklearn.neighbors import KNeighborsClassifier\n",
        "\n",
        "knn = KNeighborsClassifier(n_neighbors=5)\n",
        "knn.fit(X_train, y_train)\n",
        "\n",
        "#Print accuracy\n",
        "print(\"accuracy: \"+str(knn.score(X_test, y_test)))"
      ]
    },
    {
      "cell_type": "code",
      "execution_count": null,
      "metadata": {
        "colab": {
          "base_uri": "https://localhost:8080/"
        },
        "id": "LXojjUnyflJA",
        "outputId": "c0a7bf32-b19e-42c8-b158-0b5912a430e2"
      },
      "outputs": [
        {
          "output_type": "stream",
          "name": "stdout",
          "text": [
            "0.9922002843152742\n"
          ]
        }
      ],
      "source": [
        "# KNN w StandardScaler\n",
        "from sklearn.neighbors import KNeighborsClassifier\n",
        "\n",
        "knn = KNeighborsClassifier(n_neighbors=5)\n",
        "knn.fit(X_train_scaled, y_train)\n",
        "\n",
        "# cross validation\n",
        "from sklearn.model_selection import cross_val_score\n",
        "\n",
        "print(np.mean(cross_val_score(knn, X_train_scaled, y_train)))"
      ]
    },
    {
      "cell_type": "markdown",
      "source": [
        "The results are different. In Knn, StandardScaler increases the score from 0.936 to 0.992. For logistic regression, StandardScaler decreases the score from 0.98 to 0.87. For penalized logistic regression, StandardScaler increases the score from 0.975 to 0.993.\n",
        "\n"
      ],
      "metadata": {
        "id": "P4MhIgr2CLHW"
      }
    },
    {
      "cell_type": "markdown",
      "metadata": {
        "id": "22BPnibHMn5G"
      },
      "source": [
        "2.3 Tune the parameters where possible using GridSearchCV. Do the results improve?"
      ]
    },
    {
      "cell_type": "code",
      "execution_count": null,
      "metadata": {
        "colab": {
          "base_uri": "https://localhost:8080/"
        },
        "id": "KXKN8oduhLXN",
        "outputId": "6ad34d29-faaf-40e2-9639-55943b36236c"
      },
      "outputs": [
        {
          "output_type": "stream",
          "name": "stdout",
          "text": [
            "{'logisticregression__C': 10}\n",
            "0.9926153846153846\n"
          ]
        }
      ],
      "source": [
        "#Tune penalized logistic regression with GridSearchCV\n",
        "logreg_pipe = make_pipeline(StandardScaler(), LogisticRegression())\n",
        "param_grid = {'logisticregression__C': [0.001, 0.01, 0.1, 1, 10, 100]}\n",
        "grid = GridSearchCV(logreg_pipe, param_grid)\n",
        "grid.fit(X_train_scaled, y_train)\n",
        "print(grid.best_params_)\n",
        "print(grid.score(X_test_scaled, y_test))\n"
      ]
    },
    {
      "cell_type": "code",
      "source": [
        "logreg = LogisticRegression(C = 10, penalty='l2').fit(X_train_scaled, y_train)\n",
        "\n",
        "print(X_train.columns)\n",
        "print(\"logreg .coef_: {}\".format(logreg .coef_))\n",
        "\n",
        "print(\"Training set score: {:.3f}\".format(logreg.score(X_train_scaled, y_train)))\n",
        "print(\"Test set score: {:.3f}\".format(logreg.score(X_test_scaled, y_test)))\n",
        "\n",
        "# cross validation\n",
        "from sklearn.model_selection import cross_val_score\n",
        "\n",
        "print(np.mean(cross_val_score(logreg, X_train_scaled, y_train)))"
      ],
      "metadata": {
        "colab": {
          "base_uri": "https://localhost:8080/"
        },
        "id": "6HwY8Qy39J88",
        "outputId": "e31a454b-c3a0-4821-96a3-900c542d84ab"
      },
      "execution_count": null,
      "outputs": [
        {
          "output_type": "stream",
          "name": "stdout",
          "text": [
            "Index(['fixed acidity', 'volatile acidity', 'citric acid', 'residual sugar',\n",
            "       'chlorides', 'free sulfur dioxide', 'total sulfur dioxide', 'density',\n",
            "       'pH', 'sulphates', 'alcohol', 'quality'],\n",
            "      dtype='object')\n",
            "logreg .coef_: [[-0.09559573  1.1993927  -0.56684452 -5.58927435  0.84357158  1.55376075\n",
            "  -3.63329034  5.28644784 -0.15761224  0.50297522  2.00912742  0.30480961]]\n",
            "Training set score: 0.994\n",
            "Test set score: 0.993\n",
            "0.993637234770705\n"
          ]
        }
      ]
    },
    {
      "cell_type": "code",
      "execution_count": null,
      "metadata": {
        "colab": {
          "base_uri": "https://localhost:8080/"
        },
        "id": "E11rolaLiXap",
        "outputId": "7d29b9da-6b58-491b-dd04-98d36747e6dd"
      },
      "outputs": [
        {
          "output_type": "stream",
          "name": "stdout",
          "text": [
            "{'kneighborsclassifier__n_neighbors': 2}\n",
            "0.9907692307692307\n"
          ]
        }
      ],
      "source": [
        "#Tune KNN with GridSearchCV\n",
        "knn_pipe = make_pipeline(StandardScaler(), KNeighborsClassifier())\n",
        "param_grid = {'kneighborsclassifier__n_neighbors': range(1, 10)}\n",
        "grid = GridSearchCV(knn_pipe, param_grid)\n",
        "grid.fit(X_train_scaled, y_train)\n",
        "print(grid.best_params_)\n",
        "print(grid.score(X_test_scaled, y_test))"
      ]
    },
    {
      "cell_type": "markdown",
      "source": [
        "GridSearch improves the result of Knn to 0.993. Score of penalized logistic regression produced by GridSearch is slightly lower, it is 0.991.\n",
        "\n"
      ],
      "metadata": {
        "id": "5F8en3YBCOlJ"
      }
    },
    {
      "cell_type": "markdown",
      "metadata": {
        "id": "aG_lrS6CjDIv"
      },
      "source": [
        "2.4 Change the cross-validation strategy in GridSearchCV from ‘stratified k-fold’ to ‘kfold’ with shuffling. Do the parameters for models that can be tuned change? Or if you change the random state of the split into training and test data?"
      ]
    },
    {
      "cell_type": "code",
      "source": [
        "X_train, X_test, y_train, y_test = train_test_split(X, y, random_state=12)"
      ],
      "metadata": {
        "id": "R8zpStINjgh1"
      },
      "execution_count": null,
      "outputs": []
    },
    {
      "cell_type": "code",
      "execution_count": null,
      "metadata": {
        "colab": {
          "base_uri": "https://localhost:8080/"
        },
        "id": "Te5l6MqXjGZ4",
        "outputId": "63a0fda6-f180-4e09-8b00-8dd288234ddf"
      },
      "outputs": [
        {
          "output_type": "stream",
          "name": "stdout",
          "text": [
            "{'logisticregression__C': 0.001}\n",
            "0.7372307692307692\n"
          ]
        }
      ],
      "source": [
        "#logistic regression to \"StratifiedKFold\"\n",
        "from sklearn.model_selection import StratifiedKFold\n",
        "logreg_pipe = make_pipeline(StandardScaler(), LogisticRegression())\n",
        "param_grid = {'logisticregression__C': [0.001, 0.01, 0.1, 1, 10, 100]}\n",
        "grid = GridSearchCV(logreg_pipe, param_grid, cv=StratifiedKFold().split(X_train_scaled, y_train))\n",
        "grid.fit(X_train_scaled, y_train)\n",
        "print(grid.best_params_)\n",
        "print(grid.score(X_test_scaled, y_test))"
      ]
    },
    {
      "cell_type": "code",
      "execution_count": null,
      "metadata": {
        "colab": {
          "base_uri": "https://localhost:8080/"
        },
        "id": "WvVahkThlc4a",
        "outputId": "303666b2-088b-433d-d70f-0aab2ef663dd"
      },
      "outputs": [
        {
          "output_type": "stream",
          "name": "stdout",
          "text": [
            "{'logisticregression__C': 0.001}\n",
            "0.7372307692307692\n"
          ]
        }
      ],
      "source": [
        "#logistic regression to \"KFold\"\n",
        "from sklearn.model_selection import KFold\n",
        "logreg_pipe = make_pipeline(StandardScaler(), LogisticRegression())\n",
        "param_grid = {'logisticregression__C': [0.001, 0.01, 0.1, 1, 10, 100]}\n",
        "grid = GridSearchCV(logreg_pipe, param_grid, cv=KFold(shuffle=True))\n",
        "grid.fit(X_train_scaled, y_train)\n",
        "print(grid.best_params_)\n",
        "print(grid.score(X_test_scaled, y_test))"
      ]
    },
    {
      "cell_type": "markdown",
      "source": [
        "Changing the strategy from ‘stratified k-fold’ to ‘k-fold’ with shuffling doesn’t change the parameters, but changing from a random state of 42 to 12 changes C from 10 to 0.001.\n",
        "\n"
      ],
      "metadata": {
        "id": "ewz4WQ2JCSW3"
      }
    },
    {
      "cell_type": "markdown",
      "source": [
        "2.5 Lastly, compare the coefficients for Logistic Regression and Penalized Logistic Regression and discuss which final model you would choose to predict new data."
      ],
      "metadata": {
        "id": "E0EuBQaRCWNl"
      }
    },
    {
      "cell_type": "markdown",
      "source": [
        " The coefficients in logistic regression and penalized logistic regression are really different. Some of the coefficients in LR are extremely large. In logistic regression (LR), volatile acidity has a size of 14.30, which is different from penalty logistic regression (PLR), the largest coefficient is -3.69 (residual sugar). Sulphates has a coefficient of 11.685 in LR, while in PLR the coefficient is 0.636. Coefficients in both models are not ordered in the same way.  For example, citric acid has the third largest coefficient in LR (-2.923), yet, in PLR its size is more toward the end of the list (-0.451). Density is the fourth largest coefficient (-2.92) in LR and second largest coefficient (3.44) in PLR. Total surfer dioxide is the third largest (-3.11) in PLR, while it has the smallest coefficient in LR (-0.081).\n",
        "\n",
        "I choose penalized logistic regression because it has regularization and  limits the impact of each feature on the outcome, which prevents overfitting. Not to say that the accuracy of penalized logistic regression is in general higher than logistic regression.\n"
      ],
      "metadata": {
        "id": "di5wU0lKCZn-"
      }
    }
  ],
  "metadata": {
    "colab": {
      "provenance": [],
      "authorship_tag": "ABX9TyON89Y9PDN6QW51Sp3Wgv3e",
      "include_colab_link": true
    },
    "kernelspec": {
      "display_name": "Python 3",
      "name": "python3"
    },
    "language_info": {
      "name": "python"
    }
  },
  "nbformat": 4,
  "nbformat_minor": 0
}